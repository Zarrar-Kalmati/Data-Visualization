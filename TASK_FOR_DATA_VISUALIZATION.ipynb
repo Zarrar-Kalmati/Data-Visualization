{
 "cells": [
  {
   "cell_type": "code",
   "execution_count": 1,
   "id": "45e3699f-b876-4b09-beae-d59e380f5f86",
   "metadata": {},
   "outputs": [],
   "source": [
    "import pandas as pd"
   ]
  },
  {
   "cell_type": "markdown",
   "id": "c87cee36-9d6b-42a8-ba8a-3e910ddff8da",
   "metadata": {},
   "source": [
    "### 1. Load and Display Data → Read the dataset and print the first 5 rows"
   ]
  },
  {
   "cell_type": "code",
   "execution_count": 4,
   "id": "543fc018-a0c3-4577-af35-cad88b990322",
   "metadata": {},
   "outputs": [
    {
     "data": {
      "text/html": [
       "<div>\n",
       "<style scoped>\n",
       "    .dataframe tbody tr th:only-of-type {\n",
       "        vertical-align: middle;\n",
       "    }\n",
       "\n",
       "    .dataframe tbody tr th {\n",
       "        vertical-align: top;\n",
       "    }\n",
       "\n",
       "    .dataframe thead th {\n",
       "        text-align: right;\n",
       "    }\n",
       "</style>\n",
       "<table border=\"1\" class=\"dataframe\">\n",
       "  <thead>\n",
       "    <tr style=\"text-align: right;\">\n",
       "      <th></th>\n",
       "      <th>Unnamed: 0</th>\n",
       "      <th>Country/Region</th>\n",
       "      <th>Confirmed</th>\n",
       "      <th>Deaths</th>\n",
       "      <th>Recovered</th>\n",
       "      <th>Active</th>\n",
       "      <th>New cases</th>\n",
       "      <th>New deaths</th>\n",
       "      <th>New recovered</th>\n",
       "      <th>Deaths / 100 Cases</th>\n",
       "      <th>Recovered / 100 Cases</th>\n",
       "      <th>Deaths / 100 Recovered</th>\n",
       "      <th>Confirmed last week</th>\n",
       "      <th>1 week change</th>\n",
       "      <th>1 week % increase</th>\n",
       "      <th>WHO Region</th>\n",
       "    </tr>\n",
       "  </thead>\n",
       "  <tbody>\n",
       "    <tr>\n",
       "      <th>0</th>\n",
       "      <td>0</td>\n",
       "      <td>Afghanistan</td>\n",
       "      <td>36263</td>\n",
       "      <td>1269</td>\n",
       "      <td>25198</td>\n",
       "      <td>9796</td>\n",
       "      <td>106.0</td>\n",
       "      <td>10.0</td>\n",
       "      <td>18</td>\n",
       "      <td>3.50</td>\n",
       "      <td>69.49</td>\n",
       "      <td>5.04</td>\n",
       "      <td>35526</td>\n",
       "      <td>737</td>\n",
       "      <td>2.07</td>\n",
       "      <td>Eastern Mediterranean</td>\n",
       "    </tr>\n",
       "    <tr>\n",
       "      <th>1</th>\n",
       "      <td>1</td>\n",
       "      <td>Albania</td>\n",
       "      <td>4880</td>\n",
       "      <td>144</td>\n",
       "      <td>2745</td>\n",
       "      <td>1991</td>\n",
       "      <td>117.0</td>\n",
       "      <td>6.0</td>\n",
       "      <td>63</td>\n",
       "      <td>2.95</td>\n",
       "      <td>56.25</td>\n",
       "      <td>5.25</td>\n",
       "      <td>4171</td>\n",
       "      <td>709</td>\n",
       "      <td>17.00</td>\n",
       "      <td>Europe</td>\n",
       "    </tr>\n",
       "    <tr>\n",
       "      <th>2</th>\n",
       "      <td>2</td>\n",
       "      <td>Algeria</td>\n",
       "      <td>27973</td>\n",
       "      <td>1163</td>\n",
       "      <td>18837</td>\n",
       "      <td>7973</td>\n",
       "      <td>616.0</td>\n",
       "      <td>8.0</td>\n",
       "      <td>749</td>\n",
       "      <td>4.16</td>\n",
       "      <td>67.34</td>\n",
       "      <td>6.17</td>\n",
       "      <td>23691</td>\n",
       "      <td>4282</td>\n",
       "      <td>18.07</td>\n",
       "      <td>Africa</td>\n",
       "    </tr>\n",
       "    <tr>\n",
       "      <th>3</th>\n",
       "      <td>3</td>\n",
       "      <td>Andorra</td>\n",
       "      <td>907</td>\n",
       "      <td>52</td>\n",
       "      <td>803</td>\n",
       "      <td>52</td>\n",
       "      <td>10.0</td>\n",
       "      <td>0.0</td>\n",
       "      <td>0</td>\n",
       "      <td>5.73</td>\n",
       "      <td>88.53</td>\n",
       "      <td>6.48</td>\n",
       "      <td>884</td>\n",
       "      <td>23</td>\n",
       "      <td>2.60</td>\n",
       "      <td>Europe</td>\n",
       "    </tr>\n",
       "    <tr>\n",
       "      <th>4</th>\n",
       "      <td>4</td>\n",
       "      <td>Angola</td>\n",
       "      <td>950</td>\n",
       "      <td>41</td>\n",
       "      <td>242</td>\n",
       "      <td>667</td>\n",
       "      <td>18.0</td>\n",
       "      <td>1.0</td>\n",
       "      <td>0</td>\n",
       "      <td>4.32</td>\n",
       "      <td>25.47</td>\n",
       "      <td>16.94</td>\n",
       "      <td>749</td>\n",
       "      <td>201</td>\n",
       "      <td>26.84</td>\n",
       "      <td>Africa</td>\n",
       "    </tr>\n",
       "  </tbody>\n",
       "</table>\n",
       "</div>"
      ],
      "text/plain": [
       "   Unnamed: 0 Country/Region  Confirmed Deaths  Recovered  Active  New cases  \\\n",
       "0           0    Afghanistan      36263   1269      25198    9796      106.0   \n",
       "1           1        Albania       4880    144       2745    1991      117.0   \n",
       "2           2        Algeria      27973   1163      18837    7973      616.0   \n",
       "3           3        Andorra        907     52        803      52       10.0   \n",
       "4           4         Angola        950     41        242     667       18.0   \n",
       "\n",
       "   New deaths  New recovered  Deaths / 100 Cases  Recovered / 100 Cases  \\\n",
       "0        10.0             18                3.50                  69.49   \n",
       "1         6.0             63                2.95                  56.25   \n",
       "2         8.0            749                4.16                  67.34   \n",
       "3         0.0              0                5.73                  88.53   \n",
       "4         1.0              0                4.32                  25.47   \n",
       "\n",
       "   Deaths / 100 Recovered  Confirmed last week  1 week change  \\\n",
       "0                    5.04                35526            737   \n",
       "1                    5.25                 4171            709   \n",
       "2                    6.17                23691           4282   \n",
       "3                    6.48                  884             23   \n",
       "4                   16.94                  749            201   \n",
       "\n",
       "   1 week % increase             WHO Region  \n",
       "0               2.07  Eastern Mediterranean  \n",
       "1              17.00                 Europe  \n",
       "2              18.07                 Africa  \n",
       "3               2.60                 Europe  \n",
       "4              26.84                 Africa  "
      ]
     },
     "execution_count": 4,
     "metadata": {},
     "output_type": "execute_result"
    }
   ],
   "source": [
    "df = pd.read_csv('covid_19_country_wise_latest.csv')\n",
    "df.head()"
   ]
  },
  {
   "cell_type": "markdown",
   "id": "ecd1b5fa-d957-4bb8-8d04-a111b33301ac",
   "metadata": {},
   "source": [
    "### 2. Set the Dataset index is Unnamed: 0"
   ]
  },
  {
   "cell_type": "code",
   "execution_count": 7,
   "id": "d7eda297-b6c5-4fde-a037-328d85036d71",
   "metadata": {},
   "outputs": [
    {
     "data": {
      "text/html": [
       "<div>\n",
       "<style scoped>\n",
       "    .dataframe tbody tr th:only-of-type {\n",
       "        vertical-align: middle;\n",
       "    }\n",
       "\n",
       "    .dataframe tbody tr th {\n",
       "        vertical-align: top;\n",
       "    }\n",
       "\n",
       "    .dataframe thead th {\n",
       "        text-align: right;\n",
       "    }\n",
       "</style>\n",
       "<table border=\"1\" class=\"dataframe\">\n",
       "  <thead>\n",
       "    <tr style=\"text-align: right;\">\n",
       "      <th></th>\n",
       "      <th>Country/Region</th>\n",
       "      <th>Confirmed</th>\n",
       "      <th>Deaths</th>\n",
       "      <th>Recovered</th>\n",
       "      <th>Active</th>\n",
       "      <th>New cases</th>\n",
       "      <th>New deaths</th>\n",
       "      <th>New recovered</th>\n",
       "      <th>Deaths / 100 Cases</th>\n",
       "      <th>Recovered / 100 Cases</th>\n",
       "      <th>Deaths / 100 Recovered</th>\n",
       "      <th>Confirmed last week</th>\n",
       "      <th>1 week change</th>\n",
       "      <th>1 week % increase</th>\n",
       "      <th>WHO Region</th>\n",
       "    </tr>\n",
       "    <tr>\n",
       "      <th>index</th>\n",
       "      <th></th>\n",
       "      <th></th>\n",
       "      <th></th>\n",
       "      <th></th>\n",
       "      <th></th>\n",
       "      <th></th>\n",
       "      <th></th>\n",
       "      <th></th>\n",
       "      <th></th>\n",
       "      <th></th>\n",
       "      <th></th>\n",
       "      <th></th>\n",
       "      <th></th>\n",
       "      <th></th>\n",
       "      <th></th>\n",
       "    </tr>\n",
       "  </thead>\n",
       "  <tbody>\n",
       "    <tr>\n",
       "      <th>0</th>\n",
       "      <td>Afghanistan</td>\n",
       "      <td>36263</td>\n",
       "      <td>1269</td>\n",
       "      <td>25198</td>\n",
       "      <td>9796</td>\n",
       "      <td>106.0</td>\n",
       "      <td>10.0</td>\n",
       "      <td>18</td>\n",
       "      <td>3.50</td>\n",
       "      <td>69.49</td>\n",
       "      <td>5.04</td>\n",
       "      <td>35526</td>\n",
       "      <td>737</td>\n",
       "      <td>2.07</td>\n",
       "      <td>Eastern Mediterranean</td>\n",
       "    </tr>\n",
       "    <tr>\n",
       "      <th>1</th>\n",
       "      <td>Albania</td>\n",
       "      <td>4880</td>\n",
       "      <td>144</td>\n",
       "      <td>2745</td>\n",
       "      <td>1991</td>\n",
       "      <td>117.0</td>\n",
       "      <td>6.0</td>\n",
       "      <td>63</td>\n",
       "      <td>2.95</td>\n",
       "      <td>56.25</td>\n",
       "      <td>5.25</td>\n",
       "      <td>4171</td>\n",
       "      <td>709</td>\n",
       "      <td>17.00</td>\n",
       "      <td>Europe</td>\n",
       "    </tr>\n",
       "    <tr>\n",
       "      <th>2</th>\n",
       "      <td>Algeria</td>\n",
       "      <td>27973</td>\n",
       "      <td>1163</td>\n",
       "      <td>18837</td>\n",
       "      <td>7973</td>\n",
       "      <td>616.0</td>\n",
       "      <td>8.0</td>\n",
       "      <td>749</td>\n",
       "      <td>4.16</td>\n",
       "      <td>67.34</td>\n",
       "      <td>6.17</td>\n",
       "      <td>23691</td>\n",
       "      <td>4282</td>\n",
       "      <td>18.07</td>\n",
       "      <td>Africa</td>\n",
       "    </tr>\n",
       "    <tr>\n",
       "      <th>3</th>\n",
       "      <td>Andorra</td>\n",
       "      <td>907</td>\n",
       "      <td>52</td>\n",
       "      <td>803</td>\n",
       "      <td>52</td>\n",
       "      <td>10.0</td>\n",
       "      <td>0.0</td>\n",
       "      <td>0</td>\n",
       "      <td>5.73</td>\n",
       "      <td>88.53</td>\n",
       "      <td>6.48</td>\n",
       "      <td>884</td>\n",
       "      <td>23</td>\n",
       "      <td>2.60</td>\n",
       "      <td>Europe</td>\n",
       "    </tr>\n",
       "    <tr>\n",
       "      <th>4</th>\n",
       "      <td>Angola</td>\n",
       "      <td>950</td>\n",
       "      <td>41</td>\n",
       "      <td>242</td>\n",
       "      <td>667</td>\n",
       "      <td>18.0</td>\n",
       "      <td>1.0</td>\n",
       "      <td>0</td>\n",
       "      <td>4.32</td>\n",
       "      <td>25.47</td>\n",
       "      <td>16.94</td>\n",
       "      <td>749</td>\n",
       "      <td>201</td>\n",
       "      <td>26.84</td>\n",
       "      <td>Africa</td>\n",
       "    </tr>\n",
       "  </tbody>\n",
       "</table>\n",
       "</div>"
      ],
      "text/plain": [
       "      Country/Region  Confirmed Deaths  Recovered  Active  New cases  \\\n",
       "index                                                                  \n",
       "0        Afghanistan      36263   1269      25198    9796      106.0   \n",
       "1            Albania       4880    144       2745    1991      117.0   \n",
       "2            Algeria      27973   1163      18837    7973      616.0   \n",
       "3            Andorra        907     52        803      52       10.0   \n",
       "4             Angola        950     41        242     667       18.0   \n",
       "\n",
       "       New deaths  New recovered  Deaths / 100 Cases  Recovered / 100 Cases  \\\n",
       "index                                                                         \n",
       "0            10.0             18                3.50                  69.49   \n",
       "1             6.0             63                2.95                  56.25   \n",
       "2             8.0            749                4.16                  67.34   \n",
       "3             0.0              0                5.73                  88.53   \n",
       "4             1.0              0                4.32                  25.47   \n",
       "\n",
       "       Deaths / 100 Recovered  Confirmed last week  1 week change  \\\n",
       "index                                                               \n",
       "0                        5.04                35526            737   \n",
       "1                        5.25                 4171            709   \n",
       "2                        6.17                23691           4282   \n",
       "3                        6.48                  884             23   \n",
       "4                       16.94                  749            201   \n",
       "\n",
       "       1 week % increase             WHO Region  \n",
       "index                                            \n",
       "0                   2.07  Eastern Mediterranean  \n",
       "1                  17.00                 Europe  \n",
       "2                  18.07                 Africa  \n",
       "3                   2.60                 Europe  \n",
       "4                  26.84                 Africa  "
      ]
     },
     "execution_count": 7,
     "metadata": {},
     "output_type": "execute_result"
    }
   ],
   "source": [
    "df.set_index(\"Unnamed: 0\", inplace=True)\n",
    "df.index.name = \"index\"\n",
    "df.head()"
   ]
  },
  {
   "cell_type": "markdown",
   "id": "e5278e53-3406-4bd4-bd32-819dfcf4408f",
   "metadata": {},
   "source": [
    "### 3. Replace Whitespace in Column Names with Underscores"
   ]
  },
  {
   "cell_type": "code",
   "execution_count": 10,
   "id": "5207d1af-bb40-4149-994d-e5af62970e6b",
   "metadata": {},
   "outputs": [
    {
     "data": {
      "text/plain": [
       "Index(['Country/Region', 'Confirmed', 'Deaths', 'Recovered', 'Active',\n",
       "       'New_cases', 'New_deaths', 'New_recovered', 'Deaths_/_100_Cases',\n",
       "       'Recovered_/_100_Cases', 'Deaths_/_100_Recovered',\n",
       "       'Confirmed_last_week', '1_week_change', '1_week_%_increase',\n",
       "       'WHO_Region'],\n",
       "      dtype='object')"
      ]
     },
     "execution_count": 10,
     "metadata": {},
     "output_type": "execute_result"
    }
   ],
   "source": [
    "def clean_column_names(dataframe):\n",
    "    dataframe.columns = dataframe.columns.str.replace(\" \", \"_\")\n",
    "    return dataframe\n",
    "df = clean_column_names(df)\n",
    "df.columns"
   ]
  },
  {
   "cell_type": "markdown",
   "id": "f7f195ba-7700-494e-9cde-7b843959ed33",
   "metadata": {},
   "source": [
    "### 4. Check Basic Information → Find column names, data types, and missing values."
   ]
  },
  {
   "cell_type": "code",
   "execution_count": 13,
   "id": "48cd55c7-0446-4b9a-814d-6ad5aa03b908",
   "metadata": {},
   "outputs": [
    {
     "name": "stdout",
     "output_type": "stream",
     "text": [
      "<class 'pandas.core.frame.DataFrame'>\n",
      "Index: 187 entries, 0 to 186\n",
      "Data columns (total 15 columns):\n",
      " #   Column                  Non-Null Count  Dtype  \n",
      "---  ------                  --------------  -----  \n",
      " 0   Country/Region          187 non-null    object \n",
      " 1   Confirmed               187 non-null    int64  \n",
      " 2   Deaths                  187 non-null    object \n",
      " 3   Recovered               187 non-null    int64  \n",
      " 4   Active                  187 non-null    int64  \n",
      " 5   New_cases               177 non-null    float64\n",
      " 6   New_deaths              177 non-null    float64\n",
      " 7   New_recovered           187 non-null    int64  \n",
      " 8   Deaths_/_100_Cases      187 non-null    float64\n",
      " 9   Recovered_/_100_Cases   187 non-null    float64\n",
      " 10  Deaths_/_100_Recovered  187 non-null    float64\n",
      " 11  Confirmed_last_week     187 non-null    int64  \n",
      " 12  1_week_change           187 non-null    int64  \n",
      " 13  1_week_%_increase       187 non-null    float64\n",
      " 14  WHO_Region              187 non-null    object \n",
      "dtypes: float64(6), int64(6), object(3)\n",
      "memory usage: 23.4+ KB\n"
     ]
    }
   ],
   "source": [
    "df.info()"
   ]
  },
  {
   "cell_type": "markdown",
   "id": "a069d6e3-f2b3-4abb-8181-7d901f641556",
   "metadata": {},
   "source": [
    "### 5. fill the nan values with the mean of the column"
   ]
  },
  {
   "cell_type": "code",
   "execution_count": 16,
   "id": "bbaa8b5c-e4e4-4196-8a3a-8df85312502e",
   "metadata": {},
   "outputs": [
    {
     "data": {
      "text/plain": [
       "Country/Region            0\n",
       "Confirmed                 0\n",
       "Deaths                    0\n",
       "Recovered                 0\n",
       "Active                    0\n",
       "New_cases                 0\n",
       "New_deaths                0\n",
       "New_recovered             0\n",
       "Deaths_/_100_Cases        0\n",
       "Recovered_/_100_Cases     0\n",
       "Deaths_/_100_Recovered    0\n",
       "Confirmed_last_week       0\n",
       "1_week_change             0\n",
       "1_week_%_increase         0\n",
       "WHO_Region                0\n",
       "dtype: int64"
      ]
     },
     "execution_count": 16,
     "metadata": {},
     "output_type": "execute_result"
    }
   ],
   "source": [
    "df.fillna(df.mean(numeric_only=True), inplace=True)\n",
    "df.isnull().sum()"
   ]
  },
  {
   "cell_type": "markdown",
   "id": "c002ee09-5e71-4761-8f4d-76541a05942a",
   "metadata": {},
   "source": [
    "### 6. Count the number of unique countries in the dataset"
   ]
  },
  {
   "cell_type": "code",
   "execution_count": 19,
   "id": "8d320243-cd89-4048-b6b0-61857ee16f55",
   "metadata": {},
   "outputs": [
    {
     "name": "stdout",
     "output_type": "stream",
     "text": [
      "187\n"
     ]
    }
   ],
   "source": [
    "unique_countries = df[\"Country/Region\"].nunique()\n",
    "print(unique_countries)"
   ]
  },
  {
   "cell_type": "markdown",
   "id": "acfcf600-0790-4cdc-a235-bac8a50a39f5",
   "metadata": {},
   "source": [
    "### 7. Check if there are any duplicate country entries and remove them if  needed"
   ]
  },
  {
   "cell_type": "code",
   "execution_count": 22,
   "id": "6563b63b-1115-4366-973d-e52f797fd974",
   "metadata": {},
   "outputs": [
    {
     "name": "stdout",
     "output_type": "stream",
     "text": [
      "0\n",
      "187\n"
     ]
    }
   ],
   "source": [
    "duplicate_countries = df[\"Country/Region\"].duplicated().sum()\n",
    "df.drop_duplicates(subset=[\"Country/Region\"], keep=\"first\", inplace=True)\n",
    "unique_countries_after_cleanup = df[\"Country/Region\"].nunique()\n",
    "print(duplicate_countries) \n",
    "print(unique_countries_after_cleanup)"
   ]
  },
  {
   "cell_type": "markdown",
   "id": "26ab8de1-2bfe-4df9-b721-d1e123a5842a",
   "metadata": {},
   "source": [
    "### 8. Find the mean, median, and standard deviation of total cases."
   ]
  },
  {
   "cell_type": "code",
   "execution_count": 25,
   "id": "b531c502-83e8-48b0-9851-0e74495088b0",
   "metadata": {},
   "outputs": [
    {
     "name": "stdout",
     "output_type": "stream",
     "text": [
      "88130.935828877\n",
      "5059.0\n",
      "383318.66383061546\n"
     ]
    }
   ],
   "source": [
    "mean_cases = df[\"Confirmed\"].mean()\n",
    "median_cases = df[\"Confirmed\"].median()\n",
    "std_cases = df[\"Confirmed\"].std()\n",
    "print(mean_cases)\n",
    "print(median_cases)\n",
    "print(std_cases)"
   ]
  },
  {
   "cell_type": "markdown",
   "id": "6a11ad16-c5c0-40d8-b053-fab3f1f81564",
   "metadata": {},
   "source": [
    "### 9. Find out the string in Deaths Column and replace it with the mean of Deaths column."
   ]
  },
  {
   "cell_type": "code",
   "execution_count": 28,
   "id": "ab97b6b8-1e72-4d31-b1b4-0e63a89bea2e",
   "metadata": {},
   "outputs": [
    {
     "name": "stderr",
     "output_type": "stream",
     "text": [
      "C:\\Users\\Dell\\AppData\\Local\\Temp\\ipykernel_8536\\2650654287.py:2: FutureWarning: A value is trying to be set on a copy of a DataFrame or Series through chained assignment using an inplace method.\n",
      "The behavior will change in pandas 3.0. This inplace method will never work because the intermediate object on which we are setting values always behaves as a copy.\n",
      "\n",
      "For example, when doing 'df[col].method(value, inplace=True)', try using 'df.method({col: value}, inplace=True)' or df[col] = df[col].method(value) instead, to perform the operation inplace on the original object.\n",
      "\n",
      "\n",
      "  df[\"Deaths\"].fillna(df[\"Deaths\"].mean(), inplace=True)\n"
     ]
    },
    {
     "data": {
      "text/plain": [
       "(dtype('float64'), 0)"
      ]
     },
     "execution_count": 28,
     "metadata": {},
     "output_type": "execute_result"
    }
   ],
   "source": [
    "df[\"Deaths\"] = pd.to_numeric(df[\"Deaths\"], errors=\"coerce\")\n",
    "df[\"Deaths\"].fillna(df[\"Deaths\"].mean(), inplace=True)\n",
    "df[\"Deaths\"].dtype, df[\"Deaths\"].isnull().sum()"
   ]
  },
  {
   "cell_type": "markdown",
   "id": "e39c61fc-0ccf-4f9b-a9f8-c683f3c4ab65",
   "metadata": {},
   "source": [
    "### 10. Change the datatype of column Death"
   ]
  },
  {
   "cell_type": "code",
   "execution_count": 31,
   "id": "811259de-8413-4ad2-9935-2c3b8fde5995",
   "metadata": {},
   "outputs": [
    {
     "data": {
      "text/plain": [
       "dtype('float64')"
      ]
     },
     "execution_count": 31,
     "metadata": {},
     "output_type": "execute_result"
    }
   ],
   "source": [
    "df[\"Deaths\"] = pd.to_numeric(df[\"Deaths\"], errors=\"coerce\")\n",
    "df[\"Deaths\"].dtype"
   ]
  },
  {
   "cell_type": "markdown",
   "id": "5e5d48d5-f426-4427-8d63-4f0a9c11f8a9",
   "metadata": {},
   "source": [
    "### 11. Calculate total number of Death and Recovery all over the world`"
   ]
  },
  {
   "cell_type": "code",
   "execution_count": 34,
   "id": "e5152749-9154-47aa-8f05-a09e3012c757",
   "metadata": {},
   "outputs": [
    {
     "name": "stdout",
     "output_type": "stream",
     "text": [
      "657516.1290322581\n",
      "9468087\n"
     ]
    }
   ],
   "source": [
    "total_deaths = df[\"Deaths\"].sum()\n",
    "total_recoveries = df[\"Recovered\"].sum()\n",
    "print(total_deaths)\n",
    "print(total_recoveries)"
   ]
  },
  {
   "cell_type": "markdown",
   "id": "61c58ece-e4bb-4d1a-a8a2-05155a6b4b3b",
   "metadata": {},
   "source": [
    "### 12. How many countries have more than 1 million total cases"
   ]
  },
  {
   "cell_type": "code",
   "execution_count": 37,
   "id": "c53d83be-0e93-43b0-b61d-050f7256ad20",
   "metadata": {},
   "outputs": [
    {
     "name": "stdout",
     "output_type": "stream",
     "text": [
      "3\n"
     ]
    }
   ],
   "source": [
    "countries_over_million_cases = df[df[\"Confirmed\"] > 1_000_000][\"Country/Region\"].count()\n",
    "print(countries_over_million_cases)"
   ]
  },
  {
   "cell_type": "markdown",
   "id": "b03c86f4-3d5a-4c11-9354-b4b593eef5d7",
   "metadata": {},
   "source": [
    "### 13. Which countries have a recovery rate (Recovered / Total Cases) above 95%"
   ]
  },
  {
   "cell_type": "code",
   "execution_count": 40,
   "id": "6554c8cf-a681-467a-ad43-bfb3e4aa2881",
   "metadata": {},
   "outputs": [
    {
     "name": "stdout",
     "output_type": "stream",
     "text": [
      "      Country/Region  Recovery_Rate\n",
      "index                              \n",
      "24            Brunei      97.872340\n",
      "48          Djibouti      98.379126\n",
      "49          Dominica     100.000000\n",
      "69           Grenada     100.000000\n",
      "75          Holy See     100.000000\n",
      "78           Iceland      98.327940\n",
      "105         Malaysia      96.597035\n",
      "110        Mauritius      96.511628\n",
      "121      New Zealand      97.238279\n",
      "126           Norway      95.838809\n",
      "136            Qatar      97.017254\n",
      "164          Taiwan*      95.238095\n"
     ]
    }
   ],
   "source": [
    "df[\"Recovery_Rate\"] = (df[\"Recovered\"] / df[\"Confirmed\"]) * 100\n",
    "high_recovery_countries = df[df[\"Recovery_Rate\"] > 95][[\"Country/Region\", \"Recovery_Rate\"]]\n",
    "print(high_recovery_countries)"
   ]
  },
  {
   "cell_type": "markdown",
   "id": "dfa65d8f-82b8-4994-9f77-5a2b76360697",
   "metadata": {},
   "source": [
    "### 14. Drop columns name WHO Region and Confirmed"
   ]
  },
  {
   "cell_type": "code",
   "execution_count": 43,
   "id": "f3df9371-e90e-40a6-a630-3510bb5f8d9b",
   "metadata": {},
   "outputs": [
    {
     "data": {
      "text/plain": [
       "Index(['Country/Region', 'Deaths', 'Recovered', 'Active', 'New_cases',\n",
       "       'New_deaths', 'New_recovered', 'Deaths_/_100_Cases',\n",
       "       'Recovered_/_100_Cases', 'Deaths_/_100_Recovered',\n",
       "       'Confirmed_last_week', '1_week_change', '1_week_%_increase',\n",
       "       'Recovery_Rate'],\n",
       "      dtype='object')"
      ]
     },
     "execution_count": 43,
     "metadata": {},
     "output_type": "execute_result"
    }
   ],
   "source": [
    "df.drop(columns=[\"WHO_Region\", \"Confirmed\"], inplace=True)\n",
    "df.columns"
   ]
  },
  {
   "cell_type": "markdown",
   "id": "9a96158a-1281-4485-843b-7cf21d13772e",
   "metadata": {},
   "source": [
    "### 15. Find the Country with the Max Deaths"
   ]
  },
  {
   "cell_type": "code",
   "execution_count": 46,
   "id": "c62f18d9-68f2-48b1-ae51-cf227a6e7159",
   "metadata": {},
   "outputs": [
    {
     "name": "stdout",
     "output_type": "stream",
     "text": [
      "      Country/Region    Deaths\n",
      "index                         \n",
      "173               US  148011.0\n"
     ]
    }
   ],
   "source": [
    "max_deaths_country = df[df[\"Deaths\"] == df[\"Deaths\"].max()][[\"Country/Region\", \"Deaths\"]]\n",
    "print(max_deaths_country)"
   ]
  },
  {
   "cell_type": "markdown",
   "id": "77c7ba14-2fe2-4d22-ae6b-664f341330f5",
   "metadata": {},
   "source": [
    "### 16. Sort Countries by Deaths (Descending Order)"
   ]
  },
  {
   "cell_type": "code",
   "execution_count": 49,
   "id": "6a42fc49-5d5e-4e9e-9798-55388adc8b34",
   "metadata": {},
   "outputs": [
    {
     "name": "stdout",
     "output_type": "stream",
     "text": [
      "       Country/Region    Deaths\n",
      "index                          \n",
      "173                US  148011.0\n",
      "23             Brazil   87618.0\n",
      "177    United Kingdom   45844.0\n",
      "111            Mexico   44022.0\n",
      "85              Italy   35112.0\n",
      "79              India   33408.0\n",
      "61             France   30212.0\n",
      "157             Spain   28432.0\n",
      "132              Peru   18418.0\n",
      "81               Iran   15912.0\n"
     ]
    }
   ],
   "source": [
    "sorted_by_deaths = df.sort_values(by=\"Deaths\", ascending=False)[[\"Country/Region\", \"Deaths\"]]\n",
    "print(sorted_by_deaths.head(10))"
   ]
  },
  {
   "cell_type": "markdown",
   "id": "aaa11b9d-12b6-4372-b02d-1c4c98845160",
   "metadata": {},
   "source": [
    "### 17. Make new column name Total_cases that have a sum of Deaths, Recovered , Active"
   ]
  },
  {
   "cell_type": "code",
   "execution_count": 52,
   "id": "09ab696a-828a-420b-963c-eaa5947d9ada",
   "metadata": {},
   "outputs": [
    {
     "name": "stdout",
     "output_type": "stream",
     "text": [
      "      Country/Region  Total_cases\n",
      "index                            \n",
      "0        Afghanistan      36263.0\n",
      "1            Albania       4880.0\n",
      "2            Algeria      27973.0\n",
      "3            Andorra        907.0\n",
      "4             Angola        950.0\n"
     ]
    }
   ],
   "source": [
    "df[\"Total_cases\"] = df[\"Deaths\"] + df[\"Recovered\"] + df[\"Active\"]\n",
    "print(df[[\"Country/Region\", \"Total_cases\"]].head())"
   ]
  },
  {
   "cell_type": "markdown",
   "id": "7b83ec90-cc23-4bf9-becc-7457f994df02",
   "metadata": {},
   "source": [
    "### 18. Calculate Death_Rate for Each Country (Deaths per Total Cases) by suing formula (Desths/Total_cases)*100 and save it in Dath_Rate column"
   ]
  },
  {
   "cell_type": "code",
   "execution_count": 55,
   "id": "f5d1751e-eeba-4d4c-bc26-481eb0d633f9",
   "metadata": {},
   "outputs": [
    {
     "name": "stdout",
     "output_type": "stream",
     "text": [
      "      Country/Region  Death_Rate\n",
      "index                           \n",
      "0        Afghanistan    3.499435\n",
      "1            Albania    2.950820\n",
      "2            Algeria    4.157581\n",
      "3            Andorra    5.733186\n",
      "4             Angola    4.315789\n"
     ]
    }
   ],
   "source": [
    "df[\"Death_Rate\"] = (df[\"Deaths\"] / df[\"Total_cases\"]) * 100\n",
    "print(df[[\"Country/Region\", \"Death_Rate\"]].head())"
   ]
  },
  {
   "cell_type": "markdown",
   "id": "07f7d9ed-2e22-4869-bbae-267ad57f6077",
   "metadata": {},
   "source": [
    "### 19. Identify countries where total cases are increasing but death rates remain low."
   ]
  },
  {
   "cell_type": "code",
   "execution_count": 58,
   "id": "c75c2921-58b2-4a04-aca1-2fb79a34a0a4",
   "metadata": {},
   "outputs": [
    {
     "name": "stdout",
     "output_type": "stream",
     "text": [
      "      Country/Region  1_week_change  Death_Rate\n",
      "index                                          \n",
      "1            Albania            709    2.950820\n",
      "6          Argentina          36642    1.827185\n",
      "7            Armenia           2409    1.901578\n",
      "8          Australia           2875    1.091289\n",
      "10        Azerbaijan           2556    1.389345\n",
      "11           Bahamas            208    2.879581\n",
      "12           Bahrain           2546    0.357125\n",
      "13        Bangladesh          18772    1.310642\n",
      "15           Belarus           1038    0.799988\n",
      "18             Benin            168    1.977401\n"
     ]
    }
   ],
   "source": [
    "global_avg_death_rate = df[\"Death_Rate\"].mean()\n",
    "increasing_cases_low_death_rate = df[\n",
    "    (df[\"1_week_change\"] > 0) & (df[\"Death_Rate\"] < global_avg_death_rate)\n",
    "][[\"Country/Region\", \"1_week_change\", \"Death_Rate\"]]\n",
    "print(increasing_cases_low_death_rate.head(10))"
   ]
  },
  {
   "cell_type": "markdown",
   "id": "08033718-9ec4-4910-8379-273f98c84a25",
   "metadata": {},
   "source": [
    "### 20. print head of only 2 columns Country/Region and Death_Rate"
   ]
  },
  {
   "cell_type": "code",
   "execution_count": 61,
   "id": "c4ce7f5f-cc02-475d-8970-5d0ccb71f213",
   "metadata": {},
   "outputs": [
    {
     "name": "stdout",
     "output_type": "stream",
     "text": [
      "            Country/Region  Death_Rate\n",
      "index                                 \n",
      "0              Afghanistan    3.499435\n",
      "1                  Albania    2.950820\n",
      "2                  Algeria    4.157581\n",
      "3                  Andorra    5.733186\n",
      "4                   Angola    4.315789\n",
      "5      Antigua and Barbuda    3.488372\n",
      "6                Argentina    1.827185\n",
      "7                  Armenia    1.901578\n",
      "8                Australia    1.091289\n",
      "9                  Austria    3.468236\n"
     ]
    }
   ],
   "source": [
    "print(df[[\"Country/Region\", \"Death_Rate\"]].head(10))"
   ]
  },
  {
   "cell_type": "markdown",
   "id": "c94c19e2-d392-4f40-9613-c503121f0660",
   "metadata": {},
   "source": [
    "### 21. Create a scatter plot comparing total cases and total deaths."
   ]
  },
  {
   "cell_type": "code",
   "execution_count": 64,
   "id": "af050c11-d01e-4f44-8d6b-15037e7284c4",
   "metadata": {},
   "outputs": [
    {
     "data": {
      "image/png": "[encoded data removed]",
      "text/plain": [
       "<Figure size 1000x600 with 1 Axes>"
      ]
     },
     "metadata": {},
     "output_type": "display_data"
    }
   ],
   "source": [
    "import matplotlib.pyplot as plt\n",
    "plt.figure(figsize=(10, 6))\n",
    "plt.scatter(df[\"Total_cases\"], df[\"Deaths\"], alpha=0.5, color='red')\n",
    "plt.xlabel(\"Total Cases\")\n",
    "plt.ylabel(\"Total Deaths\")\n",
    "plt.title(\"Scatter Plot: Total Cases vs Total Deaths\")\n",
    "plt.xscale(\"log\")\n",
    "plt.yscale(\"log\")\n",
    "plt.grid(True)\n",
    "plt.show()"
   ]
  },
  {
   "cell_type": "markdown",
   "id": "8e55eee6-9a3b-40c8-8f11-54158ec65b6c",
   "metadata": {},
   "source": [
    "### 22. Save dataset in CSV format"
   ]
  },
  {
   "cell_type": "code",
   "execution_count": null,
   "id": "2ec39f97-295c-4a24-867c-e3b72de867f2",
   "metadata": {},
   "outputs": [],
   "source": []
  },
  {
   "cell_type": "code",
   "execution_count": null,
   "id": "b727f059",
   "metadata": {},
   "outputs": [],
   "source": [
    "\n",
    "# Save the dataset in CSV format\n",
    "output_file_path = \"covid_19_processed.csv\"\n",
    "df.to_csv(output_file_path, index=False)\n",
    "print(f\"Dataset saved successfully as {output_file_path}\")\n"
   ]
  }
 ],
 "metadata": {
  "kernelspec": {
   "display_name": "Python 3 (ipykernel)",
   "language": "python",
   "name": "python3"
  },
  "language_info": {
   "codemirror_mode": {
    "name": "ipython",
    "version": 3
   },
   "file_extension": ".py",
   "mimetype": "text/x-python",
   "name": "python",
   "nbconvert_exporter": "python",
   "pygments_lexer": "ipython3",
   "version": "3.12.7"
  }
 },
 "nbformat": 4,
 "nbformat_minor": 5
}
